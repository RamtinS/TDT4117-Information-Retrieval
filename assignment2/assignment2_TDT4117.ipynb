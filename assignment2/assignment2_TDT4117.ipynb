{
 "cells": [
  {
   "metadata": {},
   "cell_type": "markdown",
   "source": [
    "# Assignment 2 : Language Modeling & Evaluation \n",
    "\n",
    "**Student names**: Ramtin Forouzandehjoo Samavat <br>\n",
    "**Group number**: 30 <br>\n",
    "**Date**: 22.09.2025\n",
    "\n",
    "## Important notes\n",
    "Please read and follow these rules. Submissions that do not fulfill them may be returned.\n",
    "1. You may work in groups of maximum 2 students.\n",
    "2. Submit in **.ipynb** format only.\n",
    "3. The assignment must be typed. Handwritten answers are not accepted.\n",
    "\n",
    "**Due date**: 28.09.2025 23:59\n",
    "\n",
    "### What you will do\n",
    "- Build a **unigram document language model** with a **document-term matrix**.\n",
    "- Rank documents for queries using **Jelinek-Mercer smoothing**.\n",
    "- Evaluate the run using **Cranfield queries and qrels** (P@k, MAP, MRR).\n",
    "- (Optional) Try **Dirichlet** and compare briefly.\n"
   ],
   "id": "9d9244841b42429b"
  },
  {
   "cell_type": "markdown",
   "id": "b202a5f0",
   "metadata": {},
   "source": [
    "---\n",
    "## Dataset\n",
    "\n",
    "Make sure the Cranfield files are placed next to the notebook:\n",
    "- `cran.all.1400` — document collection (1400 docs)\n",
    "- `cran.qry` — queries\n",
    "- `cranqrel` — relevance judgments (qrels)\n",
    "\n",
    "> Only the **document parsing** for cran.all.1400 code is provided below. You will implement the rest in the TODO cells.\n"
   ]
  },
  {
   "cell_type": "markdown",
   "id": "eef4e626",
   "metadata": {},
   "source": [
    "### Load and parse documents (provided)\n",
    "\n",
    "Run the cell to parse the Cranfield documents. Update the path so it points to your `cran.all.1400` file.\n"
   ]
  },
  {
   "cell_type": "code",
   "id": "84acb800",
   "metadata": {
    "ExecuteTime": {
     "end_time": "2025-09-22T14:42:21.132087Z",
     "start_time": "2025-09-22T14:42:21.112709Z"
    }
   },
   "source": [
    "from numpy.ma.extras import column_stack\n",
    "\n",
    "# TODO: Read 'cran.all.1400' and parse the documents into a suitable data structure\n",
    "\n",
    "CRAN_PATH = r\"cran.all.1400\"  # <-- change this!\n",
    "\n",
    "def parse_cranfield(path):\n",
    "    docs = {}\n",
    "    current_id = None\n",
    "    current_field = None\n",
    "    buffers = {\"T\": [], \"A\": [], \"B\": [], \"W\": []}\n",
    "    with open(path, \"r\", encoding=\"utf-8\", errors=\"ignore\") as f:\n",
    "        for line in f:\n",
    "            line = line.rstrip(\"\\n\")\n",
    "            if line.startswith(\".I \"):\n",
    "                if current_id is not None:\n",
    "                    docs[current_id] = {\n",
    "                        \"id\": current_id,\n",
    "                        \"title\": \" \".join(buffers[\"T\"]).strip(),\n",
    "                        \"abstract\": \" \".join(buffers[\"W\"]).strip()\n",
    "                    }\n",
    "                current_id = int(line.split()[1])\n",
    "                buffers = {k: [] for k in buffers}\n",
    "                current_field = None\n",
    "            elif line.startswith(\".\"):\n",
    "                tag = line[1:].strip()\n",
    "                current_field = tag if tag in buffers else None\n",
    "            else:\n",
    "                if current_field is not None:\n",
    "                    buffers[current_field].append(line)\n",
    "    if current_id is not None:\n",
    "        docs[current_id] = {\n",
    "            \"id\": current_id,\n",
    "            \"title\": \" \".join(buffers[\"T\"]).strip(),\n",
    "            \"abstract\": \" \".join(buffers[\"W\"]).strip()\n",
    "        }\n",
    "    print(f\"Parsed {len(docs)} documents.\")\n",
    "    return docs\n",
    "\n",
    "documents = parse_cranfield(CRAN_PATH)\n",
    "print(list(documents.items())[:1])  # peek at the first parsed doc\n"
   ],
   "outputs": [
    {
     "name": "stdout",
     "output_type": "stream",
     "text": [
      "Parsed 1400 documents.\n",
      "[(1, {'id': 1, 'title': 'experimental investigation of the aerodynamics of a wing in a slipstream .', 'abstract': 'experimental investigation of the aerodynamics of a wing in a slipstream .   an experimental study of a wing in a propeller slipstream was made in order to determine the spanwise distribution of the lift increase due to slipstream at different angles of attack of the wing and at different free stream to slipstream velocity ratios .  the results were intended in part as an evaluation basis for different theoretical treatments of this problem .   the comparative span loading curves, together with supporting evidence, showed that a substantial part of the lift increment produced by the slipstream was due to a /destalling/ or boundary-layer-control effect .  the integrated remaining lift increment, after subtracting this destalling lift, was found to agree well with a potential flow theory .   an empirical evaluation of the destalling effects was made for the specific configuration of the experiment .'})]\n"
     ]
    }
   ],
   "execution_count": 61
  },
  {
   "cell_type": "markdown",
   "id": "03aa91cc",
   "metadata": {},
   "source": [
    "## 2.1 Language Modeling\n",
    "\n",
    "You will create a **unigram language model** per document, using a **document-term matrix**, and score queries with **Jelinek-Mercer smoothing**.\n"
   ]
  },
  {
   "cell_type": "markdown",
   "id": "96ade37a",
   "metadata": {},
   "source": [
    "### 2.1.1 Preprocessing\n",
    "\n",
    "Implement a simple tokenizer/normalizer (e.g., lowercasing, punctuation removal and stopword removal) and apply it to each document\n",
    "\n",
    "- Return a list of tokens for each document.\n"
   ]
  },
  {
   "cell_type": "code",
   "id": "abd9b2cf",
   "metadata": {
    "ExecuteTime": {
     "end_time": "2025-09-22T14:42:24.779293Z",
     "start_time": "2025-09-22T14:42:24.731501Z"
    }
   },
   "source": [
    "# TODO: Implement preprocessing and apply to all documents\n",
    "\n",
    "STOPWORDS = set(\"\"\"a about above after again against all am an and any are aren't as at be because been\n",
    "before being below between both but by can't cannot could couldn't did didn't do does doesn't doing don't down\n",
    "during each few for from further had hadn't has hasn't have haven't having he he'd he'll he's her here here's hers\n",
    "herself him himself his how how's i i'd i'll i'm i've if in into is isn't it it's its itself let's me more most\n",
    "mustn't my myself no nor not of off on once only or other ought our ours ourselves out over own same shan't she\n",
    "she'd she'll she's should shouldn't so some such than that that's the their theirs them themselves then there there's\n",
    "these they they'd they'll they're they've this those through to too under until up very was wasn't we we'd we'll we're\n",
    "we've were weren't what what's when when's where where's which while who who's whom why why's with won't would wouldn't\n",
    "you you'd you'll you're you've your yours yourself yourselves\"\"\".split())\n",
    "\n",
    "# Your code here\n",
    "\n",
    "import re\n",
    "\n",
    "def tokenize(text, stopwords):\n",
    "  tokens = re.findall(r\"\\b[a-z]+\\b\", text.lower()) # Convert to lowercase and remove all non-alphabetic characters.\n",
    "  tokens = [word for word in tokens if word not in stopwords] # Only keep words that are not stopwords.\n",
    "  return tokens\n",
    "\n",
    "document_tokens = {} # Dictionary<doc_id, token> to store each token.\n",
    "for doc_id, doc in documents.items():\n",
    "  combined_text = f\"{doc['title']} {doc['abstract']}\"\n",
    "  document_tokens[doc_id] = tokenize(combined_text, STOPWORDS)\n",
    "\n",
    "# Check if done correctly.\n",
    "for i in range(1, 2):\n",
    "  print(f\"Doc {i}: {document_tokens[i][:30]} ...\")"
   ],
   "outputs": [
    {
     "name": "stdout",
     "output_type": "stream",
     "text": [
      "Doc 1: ['experimental', 'investigation', 'aerodynamics', 'wing', 'slipstream', 'experimental', 'investigation', 'aerodynamics', 'wing', 'slipstream', 'experimental', 'study', 'wing', 'propeller', 'slipstream', 'made', 'order', 'determine', 'spanwise', 'distribution', 'lift', 'increase', 'due', 'slipstream', 'different', 'angles', 'attack', 'wing', 'different', 'free'] ...\n"
     ]
    }
   ],
   "execution_count": 62
  },
  {
   "cell_type": "markdown",
   "id": "44b959a1",
   "metadata": {},
   "source": [
    "### 2.1.2 Build the matrix\n",
    "\n",
    "Construct:\n",
    "- A vocabulary `term -> column_index`\n",
    "- A (sparse) **document–term count matrix**\n",
    "- Document lengths `|d|` and collection (all documents) totals\n",
    "\n",
    "> Tip: You may use dictionaries or `scipy.sparse` for efficiency.\n"
   ]
  },
  {
   "cell_type": "code",
   "id": "d74cdc73",
   "metadata": {
    "ExecuteTime": {
     "end_time": "2025-09-22T14:42:26.844663Z",
     "start_time": "2025-09-22T14:42:26.676085Z"
    }
   },
   "source": [
    "# TODO: Build vocabulary, doc-term counts (sparse), document lengths, and collection totals\n",
    "# Your code here\n",
    "\n",
    "import numpy as np\n",
    "from scipy.sparse import lil_matrix\n",
    "\n",
    "# Creating a vocabulary.\n",
    "vocabulary = set() # Will only keep unique tokens.\n",
    "for tokens in document_tokens.values():\n",
    "  vocabulary.update(tokens) # Add each unique term from each token to the vocabulary.\n",
    "\n",
    "# Turn it to a dictionary that maps terms and column index in the document matrix.\n",
    "vocabulary = {term: index for index, term in enumerate(sorted(vocabulary))}\n",
    "\n",
    "print(f\"Number of terms in the vocabulary: {len(vocabulary)}\")\n",
    "\n",
    "\n",
    "# Creating document-term matrix\n",
    "\n",
    "number_documents = len(document_tokens)\n",
    "number_tokens = len(vocabulary)\n",
    "\n",
    "dtm = lil_matrix((number_documents, number_tokens)) # Creates a number_docs x number_tokens empty matrix.\n",
    "\n",
    "# Fill the matrix.\n",
    "for doc_id, tokens in document_tokens.items():\n",
    "    for term in tokens:\n",
    "        if term in vocabulary:  # just a safeguard, should always be true.\n",
    "            column_index = vocabulary[term] # Retrieve the column index based on the term.\n",
    "            # [doc_id - 1] - matrices are 0-indexed, while doc_id start at 1.\n",
    "            dtm[doc_id - 1, column_index] += 1 # Add one for each occurrence of the term.\n",
    "\n",
    "dtm = dtm.tocsr()\n",
    "\n",
    "print(\"Dtm shape:\", dtm.shape)\n",
    "print(\"Number of stored elements in dtm:\", dtm.nnz)\n",
    "print(\"Dtm density:\", dtm.nnz / (dtm.shape[0] * dtm.shape[1]))\n",
    "\n",
    "\n",
    "document_lengths = np.array(dtm.sum(axis=1)).flatten() # Sum of each row in the matrix.\n",
    "collection_length = document_lengths.sum() # total number of sum of all document lengths\n",
    "collection_frequencies = np.array(dtm.sum(axis=0)).flatten()  # Collection frequency for each term"
   ],
   "outputs": [
    {
     "name": "stdout",
     "output_type": "stream",
     "text": [
      "Number of terms in the vocabulary: 6928\n",
      "Dtm shape: (1400, 6928)\n",
      "Number of stored elements in dtm: 90513\n",
      "Dtm density: 0.009332006763444407\n"
     ]
    }
   ],
   "execution_count": 63
  },
  {
   "cell_type": "markdown",
   "id": "b0affe47",
   "metadata": {},
   "source": [
    "### 2.1.3 Rank with **Jelinek-Mercer smoothing**\n",
    "\n",
    "Implement query likelihood scoring with Jelinek-Mercer smoothing:\n",
    "\n",
    "$\\hat{P}(t \\mid M_d) = \\lambda \\hat{P}_{\\text{mle}}(t \\mid M_d) + (1 - \\lambda)\\hat{P}_{\\text{mle}}(t \\mid M_c), \\ \\lambda = 0.5$\n",
    "\n"
   ]
  },
  {
   "cell_type": "code",
   "id": "147c30cb",
   "metadata": {
    "ExecuteTime": {
     "end_time": "2025-09-22T14:42:47.279678Z",
     "start_time": "2025-09-22T14:42:47.274440Z"
    }
   },
   "source": [
    "\"\"\" TODO: Create a function for implementing query likelihood scoring with Jelinek Mercer smoothing (λ=0.5), \n",
    "using the formula above.\"\"\"\n",
    "\n",
    "LAMBDA = 0.5\n",
    "\n",
    "def jelinek_smoothing(query: str):\n",
    "\n",
    "  query_parts = query.split()\n",
    "  scores = np.zeros(number_documents)\n",
    "\n",
    "  for term in query_parts:\n",
    "\n",
    "    if term not in vocabulary:\n",
    "      continue   # Ignore terms not in vocab\n",
    "\n",
    "    column_idx = vocabulary[term]\n",
    "\n",
    "    # Maximum likelihood estimate for all documents = term frequencies / document lengths\n",
    "    term_frequencies = dtm[:, column_idx].toarray().flatten() # Term frequencies for the given term across all documents\n",
    "    p_mle_doc = np.zeros_like(term_frequencies, dtype=float)\n",
    "    for index in range(number_documents):\n",
    "      if document_lengths[index] > 0: # only divide if document_lengths is not zero\n",
    "        p_mle_doc[index] = term_frequencies[index] / document_lengths[index]\n",
    "\n",
    "    # Maximum likelihood estimate for the collection = collection frequency / total number of tokens in the collection\n",
    "    collection_frequency = collection_frequencies[column_idx]  # collection frequency for the term\n",
    "    p_mle_col = collection_frequency / collection_length\n",
    "\n",
    "    # Jelinek-Mercer smoothing\n",
    "    p_jm = LAMBDA * p_mle_doc + (1 - LAMBDA) * p_mle_col\n",
    "\n",
    "    p_jm[p_jm <= 0] = 1e-300 # avoid log(0)\n",
    "    scores += np.log(p_jm) # log to prevent multiplication of many small probabilities that becomes almost zero.\n",
    "\n",
    "  return scores\n",
    "\n",
    "# Retrieve actual doc ids\n",
    "def jelinek_smoothing_ranked(query: str):\n",
    "  scores = jelinek_smoothing(query)\n",
    "  ranked_doc_ids = np.argsort(scores)[::-1] + 1 # Sort descending\n",
    "  return ranked_doc_ids"
   ],
   "outputs": [],
   "execution_count": 65
  },
  {
   "cell_type": "code",
   "id": "e389f7fe",
   "metadata": {
    "deletable": false,
    "editable": false,
    "ExecuteTime": {
     "end_time": "2025-09-22T14:42:49.153537Z",
     "start_time": "2025-09-22T14:42:49.150352Z"
    }
   },
   "source": [
    "# Do not change this code\n",
    "queries_assignment2 = [\n",
    "  \"gas pressure\",\n",
    "  \"structural aeroelastic flight high speed aircraft\",\n",
    "  \"heat conduction composite slabs\",\n",
    "  \"boundary layer control\",\n",
    "  \"compressible flow nozzle\",\n",
    "  \"combustion chamber injection\",\n",
    "  \"laminar turbulent transition\",\n",
    "  \"fatigue crack growth\",\n",
    "  \"wing tip vortices\",\n",
    "  \"propulsion efficiency\"\n",
    "]"
   ],
   "outputs": [],
   "execution_count": 66
  },
  {
   "cell_type": "code",
   "id": "0b153b1f",
   "metadata": {
    "ExecuteTime": {
     "end_time": "2025-09-22T14:42:51.661199Z",
     "start_time": "2025-09-22T14:42:51.637747Z"
    }
   },
   "source": [
    "# Run Jelinek-Mercer smoothing on queries in batch (print top-10 results for each), using the function you created\n",
    "def run_batch_smoothing(queries):\n",
    "    results = {}\n",
    "    for i, q in enumerate(queries, 1):\n",
    "        res = jelinek_smoothing_ranked(q)\n",
    "        results[f\"Q{i}\"] = res\n",
    "    return results\n",
    "\n",
    "jelinek_results = run_batch_smoothing(queries_assignment2)\n",
    "\n",
    "for qid, res in jelinek_results.items():\n",
    "    print(qid, \"=>\", res[:10])\n"
   ],
   "outputs": [
    {
     "name": "stdout",
     "output_type": "stream",
     "text": [
      "Q1 => [ 169  183 1003 1312 1143 1315 1274  975 1319 1139]\n",
      "Q2 => [  12  141  746   51  875 1169 1170  884   14 1263]\n",
      "Q3 => [ 399    5  144  485  181  542  582 1073  119   91]\n",
      "Q4 => [ 265 1205 1288  416    3  974    4 1349  342  933]\n",
      "Q5 => [ 118  389  775  965  217  326  941  984 1187  539]\n",
      "Q6 => [1143 1241 1254 1180  595  635 1195  691  696 1269]\n",
      "Q7 => [ 418  558  337   96  207  526  959 1264 1287    9]\n",
      "Q8 => [1196  768  884  883  726  558  330  865  909 1142]\n",
      "Q9 => [ 675  433  246  434  288  289  793  222 1342  902]\n",
      "Q10 => [ 968 1328 1380 1092  592  578  182 1151 1270 1211]\n"
     ]
    }
   ],
   "execution_count": 67
  },
  {
   "cell_type": "markdown",
   "id": "6157d304",
   "metadata": {},
   "source": [
    "#### Dirichlet\n",
    "\n",
    "If you have time, also implement Dirichlet smoothing and briefly compare the top-10 lists for the first query in the queries_assignment2 list\n",
    "\n",
    "$\\hat{P}(t \\mid M_d) = \\frac{tf_{t,d} + \\mu \\cdot \\frac{cf_t}{|T|}}{|d| + \\mu}$"
   ]
  },
  {
   "cell_type": "code",
   "id": "e2fed468",
   "metadata": {
    "ExecuteTime": {
     "end_time": "2025-09-22T14:42:54.704959Z",
     "start_time": "2025-09-22T14:42:54.699796Z"
    }
   },
   "source": [
    "# TODO (Optional): Implement Dirichlet scoring and compare with Jelinek-Mercer\n",
    "# Your code here\n",
    "\n",
    "MU = 2000\n",
    "\n",
    "def dirichlet_smoothing(query: str):\n",
    "\n",
    "  query_parts = query.split()\n",
    "  scores = np.zeros(number_documents)\n",
    "\n",
    "  for term in query_parts:\n",
    "    if term not in vocabulary:\n",
    "      continue\n",
    "\n",
    "    column_idx = vocabulary[term]\n",
    "\n",
    "    # Term frequencies for the given term across all documents\n",
    "    term_frequencies = dtm[:, column_idx].toarray().flatten()\n",
    "    collection_frequency = collection_frequencies[column_idx] # collection frequency for the term\n",
    "\n",
    "    # Dirichlet smoothing probability for all documents\n",
    "    p_d = (term_frequencies + MU * (collection_frequency / collection_length)) / (document_lengths + MU)\n",
    "\n",
    "    p_d[p_d <= 0] = 1e-300 # avoid log(0)\n",
    "    scores += np.log(p_d) # avoid underflow\n",
    "\n",
    "  return scores\n",
    "\n",
    "def dirichlet_smoothing_ranked(query: str):\n",
    "  scores = dirichlet_smoothing(query)\n",
    "  ranked_doc_ids = np.argsort(scores)[::-1] + 1 # Sort descending\n",
    "  return ranked_doc_ids"
   ],
   "outputs": [],
   "execution_count": 68
  },
  {
   "metadata": {
    "ExecuteTime": {
     "end_time": "2025-09-22T14:42:57.346159Z",
     "start_time": "2025-09-22T14:42:57.334694Z"
    }
   },
   "cell_type": "code",
   "source": [
    "def run_batch_dirichlet(queries):\n",
    "    results = {}\n",
    "    for i, q in enumerate(queries, 1):\n",
    "        res = dirichlet_smoothing_ranked(q)\n",
    "        results[f\"Q{i}\"] = res\n",
    "    return results\n",
    "\n",
    "dirichlet_results = run_batch_dirichlet(queries_assignment2)\n",
    "\n",
    "for qid, res in dirichlet_results.items():\n",
    "    print(qid, \"=>\", res[:10])\n"
   ],
   "id": "fb932a0de8c73eea",
   "outputs": [
    {
     "name": "stdout",
     "output_type": "stream",
     "text": [
      "Q1 => [ 185  169 1274  166 1319 1286  493  110 1003  975]\n",
      "Q2 => [  12   51  746   14  184  781  875  141  884 1169]\n",
      "Q3 => [399 144   5 542 485 181 582  90  91 541]\n",
      "Q4 => [ 638  368  748 1349 1163  451 1205  416 1169  792]\n",
      "Q5 => [ 118  173  970 1230  172 1187  341  942  656  217]\n",
      "Q6 => [1143  595 1195  696  635 1072 1241  691 1254 1180]\n",
      "Q7 => [ 315   96    9 1264  522  996  418  536  272  558]\n",
      "Q8 => [1196  768  558 1333 1107  767  883  726  865  640]\n",
      "Q9 => [ 433  675  434  288 1284 1271  289 1342  246 1373]\n",
      "Q10 => [ 968 1328 1380 1092 1019  182 1151 1270 1211  724]\n"
     ]
    }
   ],
   "execution_count": 69
  },
  {
   "metadata": {
    "ExecuteTime": {
     "end_time": "2025-09-22T14:43:10.680553Z",
     "start_time": "2025-09-22T14:43:10.677282Z"
    }
   },
   "cell_type": "code",
   "source": [
    "print(\"Compare Jelinek-Mercer and Dirichlet smoothing\")\n",
    "for i, q in enumerate(queries_assignment2, 1):\n",
    "    jm_top5 = jelinek_results[f\"Q{i}\"][:5]\n",
    "    dir_top5 = dirichlet_results[f\"Q{i}\"][:5]\n",
    "    print(f\"Q{i}: JM top5={jm_top5}, Dir top5={dir_top5}\")"
   ],
   "id": "4c56b82bca9168ce",
   "outputs": [
    {
     "name": "stdout",
     "output_type": "stream",
     "text": [
      "Compare Jelinek-Mercer and Dirichlet smoothing\n",
      "Q1: JM top5=[ 169  183 1003 1312 1143], Dir top5=[ 185  169 1274  166 1319]\n",
      "Q2: JM top5=[ 12 141 746  51 875], Dir top5=[ 12  51 746  14 184]\n",
      "Q3: JM top5=[399   5 144 485 181], Dir top5=[399 144   5 542 485]\n",
      "Q4: JM top5=[ 265 1205 1288  416    3], Dir top5=[ 638  368  748 1349 1163]\n",
      "Q5: JM top5=[118 389 775 965 217], Dir top5=[ 118  173  970 1230  172]\n",
      "Q6: JM top5=[1143 1241 1254 1180  595], Dir top5=[1143  595 1195  696  635]\n",
      "Q7: JM top5=[418 558 337  96 207], Dir top5=[ 315   96    9 1264  522]\n",
      "Q8: JM top5=[1196  768  884  883  726], Dir top5=[1196  768  558 1333 1107]\n",
      "Q9: JM top5=[675 433 246 434 288], Dir top5=[ 433  675  434  288 1284]\n",
      "Q10: JM top5=[ 968 1328 1380 1092  592], Dir top5=[ 968 1328 1380 1092 1019]\n"
     ]
    }
   ],
   "execution_count": 70
  },
  {
   "cell_type": "markdown",
   "id": "eb0657d9",
   "metadata": {},
   "source": [
    "## 2.2 Evaluation (Cranfield queries + qrels)\n",
    "\n",
    "Evaluate your retrieval system using **Cranfield**:\n",
    "- Parse **queries** from `cran.qry`\n",
    "- Parse **relevance judgments** from `cranqrel`\n",
    "- Compute **P@k (k=5,10)**, **MAP (Mean Average Precision)**, and **MRR (Mean Reciprocal Rank)** over all queries\n"
   ]
  },
  {
   "cell_type": "markdown",
   "id": "80204da4",
   "metadata": {},
   "source": [
    "### 2.2.1 Parse `cran.qry` and `cranqrel`\n",
    "\n",
    "- Create `queries[qid] = \"text\"` by parsing `cran.qry`\n",
    "- Create `qrels[qid] = set(relevant_doc_ids)` by parsing `cranqrel`\n"
   ]
  },
  {
   "cell_type": "code",
   "id": "94a91e3e",
   "metadata": {
    "ExecuteTime": {
     "end_time": "2025-09-22T14:43:28.730755Z",
     "start_time": "2025-09-22T14:43:28.719764Z"
    }
   },
   "source": [
    "# TODO: Parse cran.qry and cranqrel into convenient data structures\n",
    "# Your code here\n",
    "\n",
    "# Parse queries\n",
    "\n",
    "queries = {}\n",
    "\n",
    "with open(\"cran.qry\", \"r\") as f:\n",
    "  qid = None\n",
    "  text = []\n",
    "  for line in f:\n",
    "      line = line.strip()\n",
    "      if line.startswith(\".I\"):  # new query\n",
    "          if qid is not None:\n",
    "              queries[qid] = \" \".join(text)\n",
    "          qid = int(line.split()[1])\n",
    "          text = []\n",
    "      elif line.startswith(\".W\"):  # start of query text\n",
    "          continue\n",
    "      else:\n",
    "          text.append(line)\n",
    "  if qid is not None:\n",
    "      queries[qid] = \" \".join(text)\n",
    "\n",
    "# Check\n",
    "print(\"First query:\", {k: queries[k] for k in list(queries)[:1]})\n",
    "\n",
    "\n",
    "# Preprocess queries\n",
    "queries_tokens = {qid: tokenize(text, STOPWORDS) for qid, text in queries.items()}\n",
    "\n",
    "# Check\n",
    "qid = list(queries_tokens.keys())[0]\n",
    "print(f\"Query {qid} tokens:\", queries_tokens[qid][:10])\n",
    "\n",
    "\n",
    "# Parse relevance judgments\n",
    "\n",
    "from collections import defaultdict\n",
    "\n",
    "qrels = defaultdict(list)\n",
    "\n",
    "with open(\"cranqrel\") as f:\n",
    "    for line in f:\n",
    "        qid, docid, rel = line.strip().split()\n",
    "        if int(rel) > 0: # only include relevant documents\n",
    "            qrels[int(qid)].append(int(docid))\n",
    "\n",
    "# Check\n",
    "for qid in sorted(qrels)[:1]:\n",
    "    print(f\"Query {qid}: relevant docs = {qrels[qid]}\")\n"
   ],
   "outputs": [
    {
     "name": "stdout",
     "output_type": "stream",
     "text": [
      "First query: {1: 'what similarity laws must be obeyed when constructing aeroelastic models of heated high speed aircraft .'}\n",
      "Query 1 tokens: ['similarity', 'laws', 'must', 'obeyed', 'constructing', 'aeroelastic', 'models', 'heated', 'high', 'speed']\n",
      "Query 1: relevant docs = [184, 29, 31, 12, 51, 102, 13, 14, 15, 57, 378, 859, 185, 30, 37, 52, 142, 195, 875, 56, 66, 95, 462, 497, 858, 876, 879, 880]\n"
     ]
    }
   ],
   "execution_count": 71
  },
  {
   "cell_type": "markdown",
   "id": "de736084",
   "metadata": {},
   "source": [
    "### 2.2.2 Implement metrics: P@k, MAP, MRR\n",
    "\n",
    "Write functions to compute:\n",
    "- Precision@k (for **k=5** and **k=10**)\n",
    "- Mean Average Precision (MAP)\n",
    "- Mean Reciprocal Rank (MRR)\n"
   ]
  },
  {
   "cell_type": "code",
   "id": "258d08c3",
   "metadata": {
    "ExecuteTime": {
     "end_time": "2025-09-22T14:43:34.370458Z",
     "start_time": "2025-09-22T14:43:34.363473Z"
    }
   },
   "source": [
    "# TODO: Implement P@k (k=5,10), MAP, and MRR\n",
    "# Your code here\n",
    "\n",
    "# Compute Precision@k\n",
    "def precision_at_k(retrieved, relevant, k):\n",
    "\n",
    "  if k == 0:\n",
    "    return 0.0\n",
    "\n",
    "  retrieved_k = retrieved[:k]\n",
    "  relevant_set = set(relevant) # Convert to set for fast lookup.\n",
    "\n",
    "  num_relevant_docs = 0\n",
    "  for document in retrieved_k:\n",
    "    if document in relevant_set:\n",
    "      num_relevant_docs += 1\n",
    "\n",
    "  return num_relevant_docs / k\n",
    "\n",
    "\n",
    "#Compute average precision for a single query\n",
    "def average_precision(retrieved, relevant):\n",
    "  relevant_set = set(relevant)\n",
    "\n",
    "  if not relevant_set:\n",
    "    return 0.0 # No relevant documents.\n",
    "\n",
    "  sum_precisions = 0.0\n",
    "  num_relevant_found = 0\n",
    "\n",
    "  for i, document in enumerate(retrieved, start=1):\n",
    "    if document in relevant_set:\n",
    "      num_relevant_found += 1\n",
    "      sum_precisions += num_relevant_found / i # i = total retrieved docs so far\n",
    "\n",
    "  return sum_precisions / len(relevant_set)\n",
    "\n",
    "# Compute mean average precision over multiple queries\n",
    "def mean_average_precision(all_retrieved, all_relevant):\n",
    "  ap_scores = [\n",
    "    average_precision(retrieved, relevant)\n",
    "    for retrieved, relevant in zip(all_retrieved, all_relevant)\n",
    "  ]\n",
    "  return sum(ap_scores) / len(ap_scores) if ap_scores else 0.0\n",
    "\n",
    "\n",
    "# Compute Reciprocal Rank (RR) for a single query.\n",
    "def reciprocal_rank(retrieved, relevant):\n",
    "  relevant_set = set(relevant)\n",
    "\n",
    "  for rank, document in enumerate(retrieved, start=1):\n",
    "    if document in relevant_set:\n",
    "      return 1.0 / rank\n",
    "  return 0.0 # if no relevant doc found\n",
    "\n",
    "# Compute Mean Reciprocal Rank over multiple queries.\n",
    "def mean_reciprocal_rank(all_retrieved, all_relevant):\n",
    "  rr_scores = [\n",
    "    reciprocal_rank(retrieved, relevant)\n",
    "    for retrieved, relevant in zip(all_retrieved, all_relevant)\n",
    "  ]\n",
    "  return sum(rr_scores) / len(rr_scores) if rr_scores else 0.0\n"
   ],
   "outputs": [],
   "execution_count": 72
  },
  {
   "metadata": {
    "ExecuteTime": {
     "end_time": "2025-09-22T14:43:47.234541Z",
     "start_time": "2025-09-22T14:43:47.230646Z"
    }
   },
   "cell_type": "code",
   "source": [
    "# Test\n",
    "\n",
    "all_retrieved = [\n",
    "    [1, 2, 3, 4, 5],   # Query 1 prediction\n",
    "    [2, 3, 4, 1, 5]    # Query 2 prediction\n",
    "]\n",
    "# 1/3 + 1/5 + 1/4 = 0.78\n",
    "all_relevant = [\n",
    "    {3, 5},  # Query 1 relevant documents\n",
    "    {1}      # Query 2 relevant documents\n",
    "]\n",
    "\n",
    "# Precision@k\n",
    "p5 = [precision_at_k(r, g, 5) for r, g in zip(all_retrieved, all_relevant)]\n",
    "p10 = [precision_at_k(r, g, 10) for r, g in zip(all_retrieved, all_relevant)]\n",
    "\n",
    "# Mean Average Precision\n",
    "map_score = mean_average_precision(all_retrieved, all_relevant)\n",
    "\n",
    "# Mean Reciprocal Rank\n",
    "mrr_score = mean_reciprocal_rank(all_retrieved, all_relevant)\n",
    "\n",
    "print(\"Precision@5 per query:\", p5)\n",
    "print(\"Precision@10 per query:\", p10)\n",
    "print(\"MAP:\", map_score)\n",
    "print(\"MRR:\", mrr_score)\n"
   ],
   "id": "39af5619763bc2f2",
   "outputs": [
    {
     "name": "stdout",
     "output_type": "stream",
     "text": [
      "Precision@5 per query: [0.4, 0.2]\n",
      "Precision@10 per query: [0.2, 0.1]\n",
      "MAP: 0.30833333333333335\n",
      "MRR: 0.29166666666666663\n"
     ]
    }
   ],
   "execution_count": 73
  },
  {
   "cell_type": "markdown",
   "id": "4d3b07a1",
   "metadata": {},
   "source": [
    "### 2.2.3 Evaluate your run\n",
    "\n",
    "- For **all queries**, generate rankings with your **Jelinek-Mercer** model\n",
    "- Report aggregate metrics: P@5, P@10, MAP, MRR\n"
   ]
  },
  {
   "cell_type": "code",
   "id": "e8f79ad9",
   "metadata": {
    "ExecuteTime": {
     "end_time": "2025-09-22T14:43:55.703865Z",
     "start_time": "2025-09-22T14:43:55.023105Z"
    }
   },
   "source": [
    "# TODO: Run retrieval for all queries and compute P@5, P@10, MAP, and MRR\n",
    "# Your code here\n",
    "\n",
    "results = {}\n",
    "for qid, tokens in queries_tokens.items():\n",
    "  query_text = \" \".join(tokens)\n",
    "  ranked_docs = jelinek_smoothing_ranked(query_text)\n",
    "  results[qid] = ranked_docs\n",
    "\n",
    "# Prepare data for evaluation\n",
    "all_retrieved = [results[qid] for qid in sorted(results.keys())]\n",
    "all_relevant = [qrels[qid] for qid in sorted(results.keys())]\n",
    "\n",
    "# Compute Precision@5 and Precision@10\n",
    "p5_list = [precision_at_k(r, g, 5) for r, g in zip(all_retrieved, all_relevant)]\n",
    "p10_list = [precision_at_k(r, g, 10) for r, g in zip(all_retrieved, all_relevant)]\n",
    "\n",
    "# Aggregate metrics\n",
    "P5 = sum(p5_list) / len(p5_list) # divide to get average precision across all queries\n",
    "P10 = sum(p10_list) / len(p10_list) # divide to get average precision across all queries\n",
    "MAP = mean_average_precision(all_retrieved, all_relevant)\n",
    "MRR = mean_reciprocal_rank(all_retrieved, all_relevant)\n",
    "\n",
    "print(f\"P@5: {P5:.4f}\")\n",
    "print(f\"P@10: {P10:.4f}\")\n",
    "print(f\"MAP: {MAP:.4f}\")\n",
    "print(f\"MRR: {MRR:.4f}\")"
   ],
   "outputs": [
    {
     "name": "stdout",
     "output_type": "stream",
     "text": [
      "P@5: 0.0080\n",
      "P@10: 0.0098\n",
      "MAP: 0.0094\n",
      "MRR: 0.0193\n"
     ]
    }
   ],
   "execution_count": 74
  },
  {
   "cell_type": "markdown",
   "id": "b5e466be",
   "metadata": {},
   "source": [
    "\n",
    "### 2.2.4 Interpolated precision–recall curves (11‑point)\n",
    "\n",
    "- For **all queries**, if you don’t have query IDs, assign sequential IDs: `Q1, Q2, ..., Qm` in the order they appear.\n",
    "- Using your **rankings from task 2.2.3** and the **relevance judgments (`cranqrel`)**, compute **precision** and **recall** at each rank for each query.\n",
    "- For the 11 standard recall levels `R = {0.0, 0.1, ..., 1.0}`, compute the **interpolated precision** at level `r` as the **maximum precision** observed at any point with recall ≥ `r`.\n",
    "- **Report/plot** the **11‑point interpolated precision–recall curve** across queries (and optionally a few per‑query curves)."
   ]
  },
  {
   "cell_type": "code",
   "id": "1721ea9e",
   "metadata": {
    "ExecuteTime": {
     "end_time": "2025-09-22T14:44:02.252939Z",
     "start_time": "2025-09-22T14:44:02.085036Z"
    }
   },
   "source": [
    "\n",
    "# TODO: Compute the 11-point interpolated precision–recall for each query\n",
    "\n",
    "# Your code here\n",
    "\n",
    "import numpy as np\n",
    "import matplotlib.pyplot as plt\n",
    "\n",
    "# Compute precision and recall at each rank for a single query\n",
    "# retrieved: list of doc IDs returned by the model\n",
    "# relevant: list of relevant doc IDs for this query\n",
    "# Returns: (precisions, recalls)\n",
    "def precision_recall_curve(retrieved, relevant):\n",
    "  relevant_set = set(relevant) # Convert to set for faster lookup\n",
    "\n",
    "  precisions = []\n",
    "  recalls = []\n",
    "\n",
    "  num_relevant_found = 0\n",
    "  total_relevant = len(relevant_set)\n",
    "\n",
    "  # Loop over retrieved documents, keeping track of rank\n",
    "  for rank, doc_id in enumerate(retrieved, start=1):\n",
    "    if doc_id in relevant_set:\n",
    "      num_relevant_found += 1\n",
    "    precision = num_relevant_found / rank\n",
    "    recall = num_relevant_found / total_relevant if total_relevant > 0 else 0.0\n",
    "    precisions.append(precision)\n",
    "    recalls.append(recall)\n",
    "\n",
    "  return precisions, recalls\n",
    "\n",
    "# Compute interpolated precision for 11 standard recall levels\n",
    "def interpolated_precision(precisions, recalls):\n",
    "\n",
    "  recall_levels = np.linspace(0.0, 1.0, 11) # Standard 11 recall levels\n",
    "  interpolated = []\n",
    "\n",
    "  # Loop over each standard recall level\n",
    "  for r in recall_levels:\n",
    "    # Find all precision values where recall >= r\n",
    "    p_max = max([p for p, rc in zip(precisions, recalls) if rc >= r], default=0.0) # If no recall >= r, default to 0.0\n",
    "    interpolated.append(p_max) # maximum precision for this recall level\n",
    "\n",
    "  return recall_levels, interpolated\n",
    "\n",
    "# Compute averaged interpolated precision across all queries\n",
    "\n",
    "# Prepare retrieved and relevant lists\n",
    "all_retrieved = [results[qid] for qid in sorted(results.keys())]\n",
    "all_relevant = [qrels[qid] for qid in sorted(results.keys())]\n",
    "\n",
    "# Compute interpolated precision for each query\n",
    "all_interpolated = []\n",
    "for retrieved, relevant in zip(all_retrieved, all_relevant):\n",
    "    precisions, recalls = precision_recall_curve(retrieved, relevant)\n",
    "    _, interpolated = interpolated_precision(precisions, recalls)\n",
    "    all_interpolated.append(interpolated)\n",
    "\n",
    "# Average interpolated precision across queries\n",
    "avg_interpolated = np.mean(all_interpolated, axis=0)\n",
    "\n",
    "# Display numeric values for the 11-point curve\n",
    "for r, p in zip(np.linspace(0.0, 1.0, 11), avg_interpolated):\n",
    "    print(f\"Recall {r:.1f}: Interpolated Precision = {p:.4f}\")\n",
    "\n",
    "plt.figure(figsize=(8,6))\n",
    "plt.plot(np.linspace(0.0, 1.0, 11), avg_interpolated, marker='o', label=\"Average over all queries\")\n",
    "plt.xlabel(\"Recall\")\n",
    "plt.ylabel(\"Interpolated Precision\")\n",
    "plt.title(\"11-Point Interpolated Precision–Recall Curve\")\n",
    "plt.grid(True)\n",
    "plt.ylim(0, 1)\n",
    "plt.xticks(np.linspace(0.0, 1.0, 11))\n",
    "plt.legend()\n",
    "plt.show()"
   ],
   "outputs": [
    {
     "name": "stdout",
     "output_type": "stream",
     "text": [
      "Recall 0.0: Interpolated Precision = 0.0244\n",
      "Recall 0.1: Interpolated Precision = 0.0220\n",
      "Recall 0.2: Interpolated Precision = 0.0158\n",
      "Recall 0.3: Interpolated Precision = 0.0102\n",
      "Recall 0.4: Interpolated Precision = 0.0096\n",
      "Recall 0.5: Interpolated Precision = 0.0086\n",
      "Recall 0.6: Interpolated Precision = 0.0074\n",
      "Recall 0.7: Interpolated Precision = 0.0068\n",
      "Recall 0.8: Interpolated Precision = 0.0061\n",
      "Recall 0.9: Interpolated Precision = 0.0052\n",
      "Recall 1.0: Interpolated Precision = 0.0050\n"
     ]
    },
    {
     "data": {
      "text/plain": [
       "<Figure size 800x600 with 1 Axes>"
      ],
      "image/png": "[encoded data removed]"
     },
     "metadata": {},
     "output_type": "display_data"
    }
   ],
   "execution_count": 75
  },
  {
   "metadata": {
    "ExecuteTime": {
     "end_time": "2025-09-22T14:44:09.563739Z",
     "start_time": "2025-09-22T14:44:09.500983Z"
    }
   },
   "cell_type": "code",
   "source": [
    "# The first 3 queries for individual plots\n",
    "sample_qids = sorted(results.keys())[:3]\n",
    "\n",
    "sample_curves = {}\n",
    "recall_levels = np.linspace(0.0, 1.0, 11)\n",
    "\n",
    "for qid in sample_qids:\n",
    "    precisions, recalls = precision_recall_curve(results[qid], qrels[qid])\n",
    "    _, interpolated = interpolated_precision(precisions, recalls)\n",
    "    sample_curves[qid] = interpolated\n",
    "\n",
    "plt.figure(figsize=(8,6))\n",
    "\n",
    "# Average curve\n",
    "plt.plot(recall_levels, avg_interpolated, marker='o', color='black', label=\"Average over all queries\")\n",
    "\n",
    "# Individual sample queries\n",
    "colors = ['red', 'blue', 'green']\n",
    "for color, (qid, curve) in zip(colors, sample_curves.items()):\n",
    "    plt.plot(recall_levels, curve, marker='x', linestyle='--', color=color, label=f\"Query {qid}\")\n",
    "\n",
    "plt.xlabel(\"Recall\")\n",
    "plt.ylabel(\"Interpolated Precision\")\n",
    "plt.title(\"11-Point Interpolated Precision–Recall Curve\")\n",
    "plt.grid(True)\n",
    "plt.ylim(0, 1)\n",
    "plt.xticks(recall_levels)\n",
    "plt.legend()\n",
    "plt.show()"
   ],
   "id": "cec7124545323ce9",
   "outputs": [
    {
     "data": {
      "text/plain": [
       "<Figure size 800x600 with 1 Axes>"
      ],
      "image/png": "[encoded data removed]"
     },
     "metadata": {},
     "output_type": "display_data"
    }
   ],
   "execution_count": 76
  }
 ],
 "metadata": {
  "kernelspec": {
   "display_name": "Python 3 (ipykernel)",
   "language": "python",
   "name": "python3"
  },
  "language_info": {
   "name": "python"
  }
 },
 "nbformat": 4,
 "nbformat_minor": 5
}
